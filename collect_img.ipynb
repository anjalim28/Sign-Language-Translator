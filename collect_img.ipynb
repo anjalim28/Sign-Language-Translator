{
 "cells": [
  {
   "cell_type": "code",
   "execution_count": 1,
   "metadata": {},
   "outputs": [],
   "source": [
    "import cv2\n",
    "import os #helps with file paths\n",
    "import time #helps in getting a break from each of the images that are collected\n",
    "import uuid #to name our image files"
   ]
  },
  {
   "cell_type": "code",
   "execution_count": 2,
   "metadata": {},
   "outputs": [],
   "source": [
    "IMAGES_PATH = 'Tensorflow\\workspace\\images\\collectedimages'"
   ]
  },
  {
   "cell_type": "code",
   "execution_count": 3,
   "metadata": {},
   "outputs": [],
   "source": [
    "labels = ['Hello', 'Thanks', 'Goodbye', 'Yes', 'No', 'Please', 'Pick', ]\n",
    "number_imgs = 15"
   ]
  },
  {
   "cell_type": "markdown",
   "metadata": {},
   "source": [
    "Code to collect the images."
   ]
  },
  {
   "cell_type": "code",
   "execution_count": 4,
   "metadata": {},
   "outputs": [
    {
     "name": "stdout",
     "output_type": "stream",
     "text": [
      "Collecting images for Hello\n",
      "Collecting images for Thanks\n",
      "Collecting images for Goodbye\n",
      "Collecting images for Yes\n",
      "Collecting images for No\n",
      "Collecting images for Please\n",
      "Collecting images for Pick\n"
     ]
    }
   ],
   "source": [
    "import os\n",
    "import cv2\n",
    "import uuid\n",
    "\n",
    "# IMAGES_PATH = 'Tensorflow/workspace/images/collectedimages'\n",
    "# number_imgs = 10\n",
    "\n",
    "for l in labels:\n",
    "    os.makedirs(os.path.join(IMAGES_PATH, l), exist_ok=True)\n",
    "    cap = cv2.VideoCapture(0)\n",
    "    print('Collecting images for {}'.format(l))\n",
    "    time.sleep(5)\n",
    "    \n",
    "    for imgnum in range(number_imgs):\n",
    "        ret, frame = cap.read() #frame will represent our actual image.\n",
    "\n",
    "        #defining our image name\n",
    "        #uuid are the unique identifiers.\n",
    "        image_name = os.path.join(IMAGES_PATH, l, l + '.' + '{}.jpg'.format(str(uuid.uuid1())))\n",
    "        cv2.imwrite(image_name, frame)\n",
    "        cv2.imshow('frame', frame)\n",
    "        time.sleep(2)\n",
    "\n",
    "        if cv2.waitKey(1) & 0xFF == ord('q'):\n",
    "            break\n",
    "    \n",
    "    cap.release()\n",
    "    cv2.destroyAllWindows()\n"
   ]
  }
 ],
 "metadata": {
  "kernelspec": {
   "display_name": "Python 3",
   "language": "python",
   "name": "python3"
  },
  "language_info": {
   "codemirror_mode": {
    "name": "ipython",
    "version": 3
   },
   "file_extension": ".py",
   "mimetype": "text/x-python",
   "name": "python",
   "nbconvert_exporter": "python",
   "pygments_lexer": "ipython3",
   "version": "3.10.3"
  }
 },
 "nbformat": 4,
 "nbformat_minor": 2
}
